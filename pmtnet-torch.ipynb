{
 "cells": [
  {
   "cell_type": "code",
   "execution_count": 1,
   "id": "c9471cd5",
   "metadata": {
    "_cell_guid": "b1076dfc-b9ad-4769-8c92-a6c4dae69d19",
    "_uuid": "8f2839f25d086af736a60e9eeb907d3b93b6e0e5",
    "execution": {
     "iopub.execute_input": "2024-08-12T12:47:53.546767Z",
     "iopub.status.busy": "2024-08-12T12:47:53.546345Z",
     "iopub.status.idle": "2024-08-12T13:24:39.828381Z",
     "shell.execute_reply": "2024-08-12T13:24:39.827108Z"
    },
    "papermill": {
     "duration": 2206.290082,
     "end_time": "2024-08-12T13:24:39.831380",
     "exception": false,
     "start_time": "2024-08-12T12:47:53.541298",
     "status": "completed"
    },
    "tags": []
   },
   "outputs": [
    {
     "name": "stderr",
     "output_type": "stream",
     "text": [
      "Training Progress:   1%|          | 1/150 [00:13<34:15, 13.80s/it]"
     ]
    },
    {
     "name": "stdout",
     "output_type": "stream",
     "text": [
      "Epoch 1: Train Loss: 0.9307, Acc: 0.5578; Test Loss: 0.8101, Acc: 0.6413\n"
     ]
    },
    {
     "name": "stderr",
     "output_type": "stream",
     "text": [
      "Training Progress:   1%|▏         | 2/150 [00:27<33:23, 13.53s/it]"
     ]
    },
    {
     "name": "stdout",
     "output_type": "stream",
     "text": [
      "Epoch 2: Train Loss: 0.8375, Acc: 0.6188; Test Loss: 0.7750, Acc: 0.6554\n"
     ]
    },
    {
     "name": "stderr",
     "output_type": "stream",
     "text": [
      "Training Progress:   2%|▏         | 3/150 [00:40<33:23, 13.63s/it]"
     ]
    },
    {
     "name": "stdout",
     "output_type": "stream",
     "text": [
      "Epoch 3: Train Loss: 0.7684, Acc: 0.6594; Test Loss: 0.8322, Acc: 0.6348\n"
     ]
    },
    {
     "name": "stderr",
     "output_type": "stream",
     "text": [
      "Training Progress:   3%|▎         | 4/150 [00:54<33:05, 13.60s/it]"
     ]
    },
    {
     "name": "stdout",
     "output_type": "stream",
     "text": [
      "Epoch 4: Train Loss: 0.7041, Acc: 0.6939; Test Loss: 0.8026, Acc: 0.6534\n"
     ]
    },
    {
     "name": "stderr",
     "output_type": "stream",
     "text": [
      "Training Progress:   3%|▎         | 5/150 [01:08<33:01, 13.67s/it]"
     ]
    },
    {
     "name": "stdout",
     "output_type": "stream",
     "text": [
      "Epoch 5: Train Loss: 0.6491, Acc: 0.7234; Test Loss: 0.7040, Acc: 0.7159\n"
     ]
    },
    {
     "name": "stderr",
     "output_type": "stream",
     "text": [
      "Training Progress:   4%|▍         | 6/150 [01:22<33:08, 13.81s/it]"
     ]
    },
    {
     "name": "stdout",
     "output_type": "stream",
     "text": [
      "Epoch 6: Train Loss: 0.6072, Acc: 0.7449; Test Loss: 0.7523, Acc: 0.6973\n"
     ]
    },
    {
     "name": "stderr",
     "output_type": "stream",
     "text": [
      "Training Progress:   5%|▍         | 7/150 [01:36<32:57, 13.83s/it]"
     ]
    },
    {
     "name": "stdout",
     "output_type": "stream",
     "text": [
      "Epoch 7: Train Loss: 0.5720, Acc: 0.7616; Test Loss: 0.7115, Acc: 0.7206\n"
     ]
    },
    {
     "name": "stderr",
     "output_type": "stream",
     "text": [
      "Training Progress:   5%|▌         | 8/150 [01:50<33:13, 14.04s/it]"
     ]
    },
    {
     "name": "stdout",
     "output_type": "stream",
     "text": [
      "Epoch 8: Train Loss: 0.5416, Acc: 0.7770; Test Loss: 0.7616, Acc: 0.6993\n"
     ]
    },
    {
     "name": "stderr",
     "output_type": "stream",
     "text": [
      "Training Progress:   6%|▌         | 9/150 [02:04<32:55, 14.01s/it]"
     ]
    },
    {
     "name": "stdout",
     "output_type": "stream",
     "text": [
      "Epoch 9: Train Loss: 0.5182, Acc: 0.7881; Test Loss: 0.7811, Acc: 0.6916\n"
     ]
    },
    {
     "name": "stderr",
     "output_type": "stream",
     "text": [
      "Training Progress:   7%|▋         | 10/150 [02:19<32:59, 14.14s/it]"
     ]
    },
    {
     "name": "stdout",
     "output_type": "stream",
     "text": [
      "Epoch 10: Train Loss: 0.4969, Acc: 0.7988; Test Loss: 0.8014, Acc: 0.6913\n"
     ]
    },
    {
     "name": "stderr",
     "output_type": "stream",
     "text": [
      "Training Progress:   7%|▋         | 11/150 [02:33<32:46, 14.15s/it]"
     ]
    },
    {
     "name": "stdout",
     "output_type": "stream",
     "text": [
      "Epoch 11: Train Loss: 0.4793, Acc: 0.8074; Test Loss: 0.7463, Acc: 0.7210\n"
     ]
    },
    {
     "name": "stderr",
     "output_type": "stream",
     "text": [
      "Training Progress:   8%|▊         | 12/150 [02:47<32:39, 14.20s/it]"
     ]
    },
    {
     "name": "stdout",
     "output_type": "stream",
     "text": [
      "Epoch 12: Train Loss: 0.4640, Acc: 0.8140; Test Loss: 0.7471, Acc: 0.7072\n"
     ]
    },
    {
     "name": "stderr",
     "output_type": "stream",
     "text": [
      "Training Progress:   9%|▊         | 13/150 [03:01<32:24, 14.19s/it]"
     ]
    },
    {
     "name": "stdout",
     "output_type": "stream",
     "text": [
      "Epoch 13: Train Loss: 0.4506, Acc: 0.8208; Test Loss: 0.7299, Acc: 0.7271\n"
     ]
    },
    {
     "name": "stderr",
     "output_type": "stream",
     "text": [
      "Training Progress:   9%|▉         | 14/150 [03:15<31:57, 14.10s/it]"
     ]
    },
    {
     "name": "stdout",
     "output_type": "stream",
     "text": [
      "Epoch 14: Train Loss: 0.4402, Acc: 0.8255; Test Loss: 0.7337, Acc: 0.7185\n"
     ]
    },
    {
     "name": "stderr",
     "output_type": "stream",
     "text": [
      "Training Progress:  10%|█         | 15/150 [03:30<32:00, 14.23s/it]"
     ]
    },
    {
     "name": "stdout",
     "output_type": "stream",
     "text": [
      "Epoch 15: Train Loss: 0.4293, Acc: 0.8303; Test Loss: 0.7632, Acc: 0.7254\n"
     ]
    },
    {
     "name": "stderr",
     "output_type": "stream",
     "text": [
      "Training Progress:  11%|█         | 16/150 [03:44<31:33, 14.13s/it]"
     ]
    },
    {
     "name": "stdout",
     "output_type": "stream",
     "text": [
      "Epoch 16: Train Loss: 0.4195, Acc: 0.8350; Test Loss: 0.7742, Acc: 0.7172\n"
     ]
    },
    {
     "name": "stderr",
     "output_type": "stream",
     "text": [
      "Training Progress:  11%|█▏        | 17/150 [03:58<31:34, 14.24s/it]"
     ]
    },
    {
     "name": "stdout",
     "output_type": "stream",
     "text": [
      "Epoch 17: Train Loss: 0.4099, Acc: 0.8390; Test Loss: 0.7954, Acc: 0.7150\n"
     ]
    },
    {
     "name": "stderr",
     "output_type": "stream",
     "text": [
      "Training Progress:  12%|█▏        | 18/150 [04:12<31:19, 14.24s/it]"
     ]
    },
    {
     "name": "stdout",
     "output_type": "stream",
     "text": [
      "Epoch 18: Train Loss: 0.4020, Acc: 0.8433; Test Loss: 0.7647, Acc: 0.7055\n"
     ]
    },
    {
     "name": "stderr",
     "output_type": "stream",
     "text": [
      "Training Progress:  13%|█▎        | 19/150 [04:27<31:15, 14.32s/it]"
     ]
    },
    {
     "name": "stdout",
     "output_type": "stream",
     "text": [
      "Epoch 19: Train Loss: 0.3938, Acc: 0.8478; Test Loss: 0.7993, Acc: 0.7041\n"
     ]
    },
    {
     "name": "stderr",
     "output_type": "stream",
     "text": [
      "Training Progress:  13%|█▎        | 20/150 [04:41<30:52, 14.25s/it]"
     ]
    },
    {
     "name": "stdout",
     "output_type": "stream",
     "text": [
      "Epoch 20: Train Loss: 0.3872, Acc: 0.8499; Test Loss: 0.7915, Acc: 0.7070\n"
     ]
    },
    {
     "name": "stderr",
     "output_type": "stream",
     "text": [
      "Training Progress:  14%|█▍        | 21/150 [04:55<30:48, 14.33s/it]"
     ]
    },
    {
     "name": "stdout",
     "output_type": "stream",
     "text": [
      "Epoch 21: Train Loss: 0.3802, Acc: 0.8531; Test Loss: 0.8312, Acc: 0.7019\n"
     ]
    },
    {
     "name": "stderr",
     "output_type": "stream",
     "text": [
      "Training Progress:  15%|█▍        | 22/150 [05:09<30:22, 14.24s/it]"
     ]
    },
    {
     "name": "stdout",
     "output_type": "stream",
     "text": [
      "Epoch 22: Train Loss: 0.3755, Acc: 0.8559; Test Loss: 0.7887, Acc: 0.7154\n"
     ]
    },
    {
     "name": "stderr",
     "output_type": "stream",
     "text": [
      "Training Progress:  15%|█▌        | 23/150 [05:24<30:04, 14.21s/it]"
     ]
    },
    {
     "name": "stdout",
     "output_type": "stream",
     "text": [
      "Epoch 23: Train Loss: 0.3700, Acc: 0.8579; Test Loss: 0.7898, Acc: 0.7146\n"
     ]
    },
    {
     "name": "stderr",
     "output_type": "stream",
     "text": [
      "Training Progress:  16%|█▌        | 24/150 [05:38<29:57, 14.27s/it]"
     ]
    },
    {
     "name": "stdout",
     "output_type": "stream",
     "text": [
      "Epoch 24: Train Loss: 0.3644, Acc: 0.8598; Test Loss: 0.7668, Acc: 0.7155\n"
     ]
    },
    {
     "name": "stderr",
     "output_type": "stream",
     "text": [
      "Training Progress:  17%|█▋        | 25/150 [05:52<29:50, 14.32s/it]"
     ]
    },
    {
     "name": "stdout",
     "output_type": "stream",
     "text": [
      "Epoch 25: Train Loss: 0.3598, Acc: 0.8636; Test Loss: 0.8683, Acc: 0.6911\n"
     ]
    },
    {
     "name": "stderr",
     "output_type": "stream",
     "text": [
      "Training Progress:  17%|█▋        | 26/150 [06:07<29:47, 14.42s/it]"
     ]
    },
    {
     "name": "stdout",
     "output_type": "stream",
     "text": [
      "Epoch 26: Train Loss: 0.3546, Acc: 0.8645; Test Loss: 0.8350, Acc: 0.7056\n"
     ]
    },
    {
     "name": "stderr",
     "output_type": "stream",
     "text": [
      "Training Progress:  18%|█▊        | 27/150 [06:21<29:25, 14.36s/it]"
     ]
    },
    {
     "name": "stdout",
     "output_type": "stream",
     "text": [
      "Epoch 27: Train Loss: 0.3517, Acc: 0.8658; Test Loss: 0.8184, Acc: 0.7023\n"
     ]
    },
    {
     "name": "stderr",
     "output_type": "stream",
     "text": [
      "Training Progress:  19%|█▊        | 28/150 [06:36<29:16, 14.39s/it]"
     ]
    },
    {
     "name": "stdout",
     "output_type": "stream",
     "text": [
      "Epoch 28: Train Loss: 0.3487, Acc: 0.8682; Test Loss: 0.8680, Acc: 0.6932\n"
     ]
    },
    {
     "name": "stderr",
     "output_type": "stream",
     "text": [
      "Training Progress:  19%|█▉        | 29/150 [06:50<28:55, 14.34s/it]"
     ]
    },
    {
     "name": "stdout",
     "output_type": "stream",
     "text": [
      "Epoch 29: Train Loss: 0.3469, Acc: 0.8690; Test Loss: 0.7719, Acc: 0.7236\n"
     ]
    },
    {
     "name": "stderr",
     "output_type": "stream",
     "text": [
      "Training Progress:  20%|██        | 30/150 [07:05<28:51, 14.43s/it]"
     ]
    },
    {
     "name": "stdout",
     "output_type": "stream",
     "text": [
      "Epoch 30: Train Loss: 0.3404, Acc: 0.8716; Test Loss: 0.8293, Acc: 0.7024\n"
     ]
    },
    {
     "name": "stderr",
     "output_type": "stream",
     "text": [
      "Training Progress:  21%|██        | 31/150 [07:19<28:27, 14.35s/it]"
     ]
    },
    {
     "name": "stdout",
     "output_type": "stream",
     "text": [
      "Epoch 31: Train Loss: 0.3367, Acc: 0.8729; Test Loss: 0.8518, Acc: 0.6970\n"
     ]
    },
    {
     "name": "stderr",
     "output_type": "stream",
     "text": [
      "Training Progress:  21%|██▏       | 32/150 [07:33<28:06, 14.29s/it]"
     ]
    },
    {
     "name": "stdout",
     "output_type": "stream",
     "text": [
      "Epoch 32: Train Loss: 0.3352, Acc: 0.8742; Test Loss: 0.8570, Acc: 0.6926\n"
     ]
    },
    {
     "name": "stderr",
     "output_type": "stream",
     "text": [
      "Training Progress:  22%|██▏       | 33/150 [07:48<28:04, 14.39s/it]"
     ]
    },
    {
     "name": "stdout",
     "output_type": "stream",
     "text": [
      "Epoch 33: Train Loss: 0.3316, Acc: 0.8754; Test Loss: 0.8579, Acc: 0.7019\n"
     ]
    },
    {
     "name": "stderr",
     "output_type": "stream",
     "text": [
      "Training Progress:  23%|██▎       | 34/150 [08:02<27:47, 14.37s/it]"
     ]
    },
    {
     "name": "stdout",
     "output_type": "stream",
     "text": [
      "Epoch 34: Train Loss: 0.3289, Acc: 0.8762; Test Loss: 0.9051, Acc: 0.6952\n"
     ]
    },
    {
     "name": "stderr",
     "output_type": "stream",
     "text": [
      "Training Progress:  23%|██▎       | 35/150 [08:17<27:48, 14.51s/it]"
     ]
    },
    {
     "name": "stdout",
     "output_type": "stream",
     "text": [
      "Epoch 35: Train Loss: 0.3253, Acc: 0.8784; Test Loss: 0.8793, Acc: 0.7062\n"
     ]
    },
    {
     "name": "stderr",
     "output_type": "stream",
     "text": [
      "Training Progress:  24%|██▍       | 36/150 [08:31<27:24, 14.43s/it]"
     ]
    },
    {
     "name": "stdout",
     "output_type": "stream",
     "text": [
      "Epoch 36: Train Loss: 0.3233, Acc: 0.8792; Test Loss: 0.8363, Acc: 0.7079\n"
     ]
    },
    {
     "name": "stderr",
     "output_type": "stream",
     "text": [
      "Training Progress:  25%|██▍       | 37/150 [08:46<27:29, 14.60s/it]"
     ]
    },
    {
     "name": "stdout",
     "output_type": "stream",
     "text": [
      "Epoch 37: Train Loss: 0.3207, Acc: 0.8802; Test Loss: 0.8241, Acc: 0.7118\n"
     ]
    },
    {
     "name": "stderr",
     "output_type": "stream",
     "text": [
      "Training Progress:  25%|██▌       | 38/150 [09:00<27:08, 14.54s/it]"
     ]
    },
    {
     "name": "stdout",
     "output_type": "stream",
     "text": [
      "Epoch 38: Train Loss: 0.3190, Acc: 0.8812; Test Loss: 0.8856, Acc: 0.6835\n"
     ]
    },
    {
     "name": "stderr",
     "output_type": "stream",
     "text": [
      "Training Progress:  26%|██▌       | 39/150 [09:15<26:56, 14.57s/it]"
     ]
    },
    {
     "name": "stdout",
     "output_type": "stream",
     "text": [
      "Epoch 39: Train Loss: 0.3153, Acc: 0.8828; Test Loss: 0.8780, Acc: 0.6972\n"
     ]
    },
    {
     "name": "stderr",
     "output_type": "stream",
     "text": [
      "Training Progress:  27%|██▋       | 40/150 [09:29<26:26, 14.42s/it]"
     ]
    },
    {
     "name": "stdout",
     "output_type": "stream",
     "text": [
      "Epoch 40: Train Loss: 0.3147, Acc: 0.8831; Test Loss: 0.8294, Acc: 0.7035\n"
     ]
    },
    {
     "name": "stderr",
     "output_type": "stream",
     "text": [
      "Training Progress:  27%|██▋       | 41/150 [09:44<26:20, 14.50s/it]"
     ]
    },
    {
     "name": "stdout",
     "output_type": "stream",
     "text": [
      "Epoch 41: Train Loss: 0.3098, Acc: 0.8849; Test Loss: 0.8197, Acc: 0.7088\n"
     ]
    },
    {
     "name": "stderr",
     "output_type": "stream",
     "text": [
      "Training Progress:  28%|██▊       | 42/150 [09:58<25:59, 14.44s/it]"
     ]
    },
    {
     "name": "stdout",
     "output_type": "stream",
     "text": [
      "Epoch 42: Train Loss: 0.3086, Acc: 0.8858; Test Loss: 0.8501, Acc: 0.7022\n"
     ]
    },
    {
     "name": "stderr",
     "output_type": "stream",
     "text": [
      "Training Progress:  29%|██▊       | 43/150 [10:13<25:50, 14.49s/it]"
     ]
    },
    {
     "name": "stdout",
     "output_type": "stream",
     "text": [
      "Epoch 43: Train Loss: 0.3064, Acc: 0.8864; Test Loss: 0.8473, Acc: 0.7092\n"
     ]
    },
    {
     "name": "stderr",
     "output_type": "stream",
     "text": [
      "Training Progress:  29%|██▉       | 44/150 [10:27<25:37, 14.51s/it]"
     ]
    },
    {
     "name": "stdout",
     "output_type": "stream",
     "text": [
      "Epoch 44: Train Loss: 0.3045, Acc: 0.8872; Test Loss: 0.8182, Acc: 0.7134\n"
     ]
    },
    {
     "name": "stderr",
     "output_type": "stream",
     "text": [
      "Training Progress:  30%|███       | 45/150 [10:41<25:15, 14.44s/it]"
     ]
    },
    {
     "name": "stdout",
     "output_type": "stream",
     "text": [
      "Epoch 45: Train Loss: 0.3036, Acc: 0.8880; Test Loss: 0.8614, Acc: 0.7111\n"
     ]
    },
    {
     "name": "stderr",
     "output_type": "stream",
     "text": [
      "Training Progress:  31%|███       | 46/150 [10:56<25:14, 14.56s/it]"
     ]
    },
    {
     "name": "stdout",
     "output_type": "stream",
     "text": [
      "Epoch 46: Train Loss: 0.3036, Acc: 0.8881; Test Loss: 0.8874, Acc: 0.7060\n"
     ]
    },
    {
     "name": "stderr",
     "output_type": "stream",
     "text": [
      "Training Progress:  31%|███▏      | 47/150 [11:11<25:04, 14.61s/it]"
     ]
    },
    {
     "name": "stdout",
     "output_type": "stream",
     "text": [
      "Epoch 47: Train Loss: 0.2989, Acc: 0.8900; Test Loss: 0.8400, Acc: 0.7168\n"
     ]
    },
    {
     "name": "stderr",
     "output_type": "stream",
     "text": [
      "Training Progress:  32%|███▏      | 48/150 [11:26<24:55, 14.66s/it]"
     ]
    },
    {
     "name": "stdout",
     "output_type": "stream",
     "text": [
      "Epoch 48: Train Loss: 0.3001, Acc: 0.8892; Test Loss: 0.8720, Acc: 0.7080\n"
     ]
    },
    {
     "name": "stderr",
     "output_type": "stream",
     "text": [
      "Training Progress:  33%|███▎      | 49/150 [11:40<24:33, 14.59s/it]"
     ]
    },
    {
     "name": "stdout",
     "output_type": "stream",
     "text": [
      "Epoch 49: Train Loss: 0.2967, Acc: 0.8909; Test Loss: 0.9211, Acc: 0.6908\n"
     ]
    },
    {
     "name": "stderr",
     "output_type": "stream",
     "text": [
      "Training Progress:  33%|███▎      | 50/150 [11:55<24:24, 14.64s/it]"
     ]
    },
    {
     "name": "stdout",
     "output_type": "stream",
     "text": [
      "Epoch 50: Train Loss: 0.2946, Acc: 0.8923; Test Loss: 0.8719, Acc: 0.7069\n"
     ]
    },
    {
     "name": "stderr",
     "output_type": "stream",
     "text": [
      "Training Progress:  34%|███▍      | 51/150 [12:09<24:03, 14.58s/it]"
     ]
    },
    {
     "name": "stdout",
     "output_type": "stream",
     "text": [
      "Epoch 51: Train Loss: 0.2951, Acc: 0.8914; Test Loss: 0.8677, Acc: 0.7007\n"
     ]
    },
    {
     "name": "stderr",
     "output_type": "stream",
     "text": [
      "Training Progress:  35%|███▍      | 52/150 [12:24<23:54, 14.64s/it]"
     ]
    },
    {
     "name": "stdout",
     "output_type": "stream",
     "text": [
      "Epoch 52: Train Loss: 0.2926, Acc: 0.8929; Test Loss: 0.9512, Acc: 0.6853\n"
     ]
    },
    {
     "name": "stderr",
     "output_type": "stream",
     "text": [
      "Training Progress:  35%|███▌      | 53/150 [12:39<23:37, 14.61s/it]"
     ]
    },
    {
     "name": "stdout",
     "output_type": "stream",
     "text": [
      "Epoch 53: Train Loss: 0.2926, Acc: 0.8928; Test Loss: 0.8949, Acc: 0.7031\n"
     ]
    },
    {
     "name": "stderr",
     "output_type": "stream",
     "text": [
      "Training Progress:  36%|███▌      | 54/150 [12:53<23:26, 14.65s/it]"
     ]
    },
    {
     "name": "stdout",
     "output_type": "stream",
     "text": [
      "Epoch 54: Train Loss: 0.2891, Acc: 0.8946; Test Loss: 0.8892, Acc: 0.7039\n"
     ]
    },
    {
     "name": "stderr",
     "output_type": "stream",
     "text": [
      "Training Progress:  37%|███▋      | 55/150 [13:08<23:05, 14.59s/it]"
     ]
    },
    {
     "name": "stdout",
     "output_type": "stream",
     "text": [
      "Epoch 55: Train Loss: 0.2874, Acc: 0.8953; Test Loss: 0.8237, Acc: 0.7223\n"
     ]
    },
    {
     "name": "stderr",
     "output_type": "stream",
     "text": [
      "Training Progress:  37%|███▋      | 56/150 [13:23<22:53, 14.61s/it]"
     ]
    },
    {
     "name": "stdout",
     "output_type": "stream",
     "text": [
      "Epoch 56: Train Loss: 0.2868, Acc: 0.8958; Test Loss: 0.8611, Acc: 0.7077\n"
     ]
    },
    {
     "name": "stderr",
     "output_type": "stream",
     "text": [
      "Training Progress:  38%|███▊      | 57/150 [13:37<22:44, 14.67s/it]"
     ]
    },
    {
     "name": "stdout",
     "output_type": "stream",
     "text": [
      "Epoch 57: Train Loss: 0.2866, Acc: 0.8951; Test Loss: 0.9240, Acc: 0.6903\n"
     ]
    },
    {
     "name": "stderr",
     "output_type": "stream",
     "text": [
      "Training Progress:  39%|███▊      | 58/150 [13:52<22:24, 14.61s/it]"
     ]
    },
    {
     "name": "stdout",
     "output_type": "stream",
     "text": [
      "Epoch 58: Train Loss: 0.2854, Acc: 0.8956; Test Loss: 0.8458, Acc: 0.7178\n"
     ]
    },
    {
     "name": "stderr",
     "output_type": "stream",
     "text": [
      "Training Progress:  39%|███▉      | 59/150 [14:07<22:15, 14.67s/it]"
     ]
    },
    {
     "name": "stdout",
     "output_type": "stream",
     "text": [
      "Epoch 59: Train Loss: 0.2845, Acc: 0.8963; Test Loss: 0.8104, Acc: 0.7297\n"
     ]
    },
    {
     "name": "stderr",
     "output_type": "stream",
     "text": [
      "Training Progress:  40%|████      | 60/150 [14:21<21:56, 14.63s/it]"
     ]
    },
    {
     "name": "stdout",
     "output_type": "stream",
     "text": [
      "Epoch 60: Train Loss: 0.2814, Acc: 0.8981; Test Loss: 0.9296, Acc: 0.6862\n"
     ]
    },
    {
     "name": "stderr",
     "output_type": "stream",
     "text": [
      "Training Progress:  41%|████      | 61/150 [14:36<21:43, 14.65s/it]"
     ]
    },
    {
     "name": "stdout",
     "output_type": "stream",
     "text": [
      "Epoch 61: Train Loss: 0.2822, Acc: 0.8975; Test Loss: 0.8545, Acc: 0.7094\n"
     ]
    },
    {
     "name": "stderr",
     "output_type": "stream",
     "text": [
      "Training Progress:  41%|████▏     | 62/150 [14:50<21:24, 14.59s/it]"
     ]
    },
    {
     "name": "stdout",
     "output_type": "stream",
     "text": [
      "Epoch 62: Train Loss: 0.2818, Acc: 0.8976; Test Loss: 0.8757, Acc: 0.7061\n"
     ]
    },
    {
     "name": "stderr",
     "output_type": "stream",
     "text": [
      "Training Progress:  42%|████▏     | 63/150 [15:05<21:15, 14.66s/it]"
     ]
    },
    {
     "name": "stdout",
     "output_type": "stream",
     "text": [
      "Epoch 63: Train Loss: 0.2789, Acc: 0.8989; Test Loss: 0.8751, Acc: 0.7066\n"
     ]
    },
    {
     "name": "stderr",
     "output_type": "stream",
     "text": [
      "Training Progress:  43%|████▎     | 64/150 [15:19<20:50, 14.54s/it]"
     ]
    },
    {
     "name": "stdout",
     "output_type": "stream",
     "text": [
      "Epoch 64: Train Loss: 0.2773, Acc: 0.8995; Test Loss: 0.8978, Acc: 0.6990\n"
     ]
    },
    {
     "name": "stderr",
     "output_type": "stream",
     "text": [
      "Training Progress:  43%|████▎     | 65/150 [15:34<20:45, 14.66s/it]"
     ]
    },
    {
     "name": "stdout",
     "output_type": "stream",
     "text": [
      "Epoch 65: Train Loss: 0.2772, Acc: 0.9002; Test Loss: 0.8979, Acc: 0.7051\n"
     ]
    },
    {
     "name": "stderr",
     "output_type": "stream",
     "text": [
      "Training Progress:  44%|████▍     | 66/150 [15:49<20:22, 14.56s/it]"
     ]
    },
    {
     "name": "stdout",
     "output_type": "stream",
     "text": [
      "Epoch 66: Train Loss: 0.2765, Acc: 0.9003; Test Loss: 0.8809, Acc: 0.7093\n"
     ]
    },
    {
     "name": "stderr",
     "output_type": "stream",
     "text": [
      "Training Progress:  45%|████▍     | 67/150 [16:03<20:12, 14.61s/it]"
     ]
    },
    {
     "name": "stdout",
     "output_type": "stream",
     "text": [
      "Epoch 67: Train Loss: 0.2762, Acc: 0.9005; Test Loss: 0.8160, Acc: 0.7207\n"
     ]
    },
    {
     "name": "stderr",
     "output_type": "stream",
     "text": [
      "Training Progress:  45%|████▌     | 68/150 [16:18<20:03, 14.67s/it]"
     ]
    },
    {
     "name": "stdout",
     "output_type": "stream",
     "text": [
      "Epoch 68: Train Loss: 0.2746, Acc: 0.9006; Test Loss: 0.8671, Acc: 0.7086\n"
     ]
    },
    {
     "name": "stderr",
     "output_type": "stream",
     "text": [
      "Training Progress:  46%|████▌     | 69/150 [16:33<19:41, 14.58s/it]"
     ]
    },
    {
     "name": "stdout",
     "output_type": "stream",
     "text": [
      "Epoch 69: Train Loss: 0.2733, Acc: 0.9013; Test Loss: 0.8168, Acc: 0.7293\n"
     ]
    },
    {
     "name": "stderr",
     "output_type": "stream",
     "text": [
      "Training Progress:  47%|████▋     | 70/150 [16:48<19:37, 14.72s/it]"
     ]
    },
    {
     "name": "stdout",
     "output_type": "stream",
     "text": [
      "Epoch 70: Train Loss: 0.2722, Acc: 0.9016; Test Loss: 0.8924, Acc: 0.7057\n"
     ]
    },
    {
     "name": "stderr",
     "output_type": "stream",
     "text": [
      "Training Progress:  47%|████▋     | 71/150 [17:02<19:14, 14.61s/it]"
     ]
    },
    {
     "name": "stdout",
     "output_type": "stream",
     "text": [
      "Epoch 71: Train Loss: 0.2703, Acc: 0.9027; Test Loss: 0.8625, Acc: 0.7132\n"
     ]
    },
    {
     "name": "stderr",
     "output_type": "stream",
     "text": [
      "Training Progress:  48%|████▊     | 72/150 [17:17<19:05, 14.69s/it]"
     ]
    },
    {
     "name": "stdout",
     "output_type": "stream",
     "text": [
      "Epoch 72: Train Loss: 0.2722, Acc: 0.9024; Test Loss: 0.8319, Acc: 0.7125\n"
     ]
    },
    {
     "name": "stderr",
     "output_type": "stream",
     "text": [
      "Training Progress:  49%|████▊     | 73/150 [17:31<18:41, 14.57s/it]"
     ]
    },
    {
     "name": "stdout",
     "output_type": "stream",
     "text": [
      "Epoch 73: Train Loss: 0.2710, Acc: 0.9023; Test Loss: 0.8602, Acc: 0.7186\n"
     ]
    },
    {
     "name": "stderr",
     "output_type": "stream",
     "text": [
      "Training Progress:  49%|████▉     | 74/150 [17:46<18:29, 14.60s/it]"
     ]
    },
    {
     "name": "stdout",
     "output_type": "stream",
     "text": [
      "Epoch 74: Train Loss: 0.2694, Acc: 0.9029; Test Loss: 0.8448, Acc: 0.7194\n"
     ]
    },
    {
     "name": "stderr",
     "output_type": "stream",
     "text": [
      "Training Progress:  50%|█████     | 75/150 [18:00<18:10, 14.54s/it]"
     ]
    },
    {
     "name": "stdout",
     "output_type": "stream",
     "text": [
      "Epoch 75: Train Loss: 0.2680, Acc: 0.9040; Test Loss: 0.8283, Acc: 0.7246\n"
     ]
    },
    {
     "name": "stderr",
     "output_type": "stream",
     "text": [
      "Training Progress:  51%|█████     | 76/150 [18:15<18:02, 14.63s/it]"
     ]
    },
    {
     "name": "stdout",
     "output_type": "stream",
     "text": [
      "Epoch 76: Train Loss: 0.2673, Acc: 0.9034; Test Loss: 0.8970, Acc: 0.7069\n"
     ]
    },
    {
     "name": "stderr",
     "output_type": "stream",
     "text": [
      "Training Progress:  51%|█████▏    | 77/150 [18:29<17:38, 14.50s/it]"
     ]
    },
    {
     "name": "stdout",
     "output_type": "stream",
     "text": [
      "Epoch 77: Train Loss: 0.2651, Acc: 0.9051; Test Loss: 0.8206, Acc: 0.7252\n"
     ]
    },
    {
     "name": "stderr",
     "output_type": "stream",
     "text": [
      "Training Progress:  52%|█████▏    | 78/150 [18:44<17:24, 14.50s/it]"
     ]
    },
    {
     "name": "stdout",
     "output_type": "stream",
     "text": [
      "Epoch 78: Train Loss: 0.2658, Acc: 0.9049; Test Loss: 0.7652, Acc: 0.7395\n"
     ]
    },
    {
     "name": "stderr",
     "output_type": "stream",
     "text": [
      "Training Progress:  53%|█████▎    | 79/150 [18:58<17:12, 14.54s/it]"
     ]
    },
    {
     "name": "stdout",
     "output_type": "stream",
     "text": [
      "Epoch 79: Train Loss: 0.2651, Acc: 0.9050; Test Loss: 0.8261, Acc: 0.7283\n"
     ]
    },
    {
     "name": "stderr",
     "output_type": "stream",
     "text": [
      "Training Progress:  53%|█████▎    | 80/150 [19:13<16:57, 14.53s/it]"
     ]
    },
    {
     "name": "stdout",
     "output_type": "stream",
     "text": [
      "Epoch 80: Train Loss: 0.2650, Acc: 0.9049; Test Loss: 0.8141, Acc: 0.7340\n"
     ]
    },
    {
     "name": "stderr",
     "output_type": "stream",
     "text": [
      "Training Progress:  54%|█████▍    | 81/150 [19:28<16:52, 14.67s/it]"
     ]
    },
    {
     "name": "stdout",
     "output_type": "stream",
     "text": [
      "Epoch 81: Train Loss: 0.2626, Acc: 0.9062; Test Loss: 0.8482, Acc: 0.7289\n"
     ]
    },
    {
     "name": "stderr",
     "output_type": "stream",
     "text": [
      "Training Progress:  55%|█████▍    | 82/150 [19:42<16:32, 14.60s/it]"
     ]
    },
    {
     "name": "stdout",
     "output_type": "stream",
     "text": [
      "Epoch 82: Train Loss: 0.2630, Acc: 0.9058; Test Loss: 0.8610, Acc: 0.7132\n"
     ]
    },
    {
     "name": "stderr",
     "output_type": "stream",
     "text": [
      "Training Progress:  55%|█████▌    | 83/150 [19:57<16:20, 14.64s/it]"
     ]
    },
    {
     "name": "stdout",
     "output_type": "stream",
     "text": [
      "Epoch 83: Train Loss: 0.2606, Acc: 0.9069; Test Loss: 0.8174, Acc: 0.7281\n"
     ]
    },
    {
     "name": "stderr",
     "output_type": "stream",
     "text": [
      "Training Progress:  56%|█████▌    | 84/150 [20:12<16:02, 14.59s/it]"
     ]
    },
    {
     "name": "stdout",
     "output_type": "stream",
     "text": [
      "Epoch 84: Train Loss: 0.2626, Acc: 0.9062; Test Loss: 0.9433, Acc: 0.7063\n"
     ]
    },
    {
     "name": "stderr",
     "output_type": "stream",
     "text": [
      "Training Progress:  57%|█████▋    | 85/150 [20:26<15:53, 14.67s/it]"
     ]
    },
    {
     "name": "stdout",
     "output_type": "stream",
     "text": [
      "Epoch 85: Train Loss: 0.2613, Acc: 0.9070; Test Loss: 0.8650, Acc: 0.7215\n"
     ]
    },
    {
     "name": "stderr",
     "output_type": "stream",
     "text": [
      "Training Progress:  57%|█████▋    | 86/150 [20:41<15:32, 14.58s/it]"
     ]
    },
    {
     "name": "stdout",
     "output_type": "stream",
     "text": [
      "Epoch 86: Train Loss: 0.2615, Acc: 0.9068; Test Loss: 0.8857, Acc: 0.7135\n"
     ]
    },
    {
     "name": "stderr",
     "output_type": "stream",
     "text": [
      "Training Progress:  58%|█████▊    | 87/150 [20:56<15:23, 14.66s/it]"
     ]
    },
    {
     "name": "stdout",
     "output_type": "stream",
     "text": [
      "Epoch 87: Train Loss: 0.2601, Acc: 0.9071; Test Loss: 0.8760, Acc: 0.7079\n"
     ]
    },
    {
     "name": "stderr",
     "output_type": "stream",
     "text": [
      "Training Progress:  59%|█████▊    | 88/150 [21:10<15:07, 14.64s/it]"
     ]
    },
    {
     "name": "stdout",
     "output_type": "stream",
     "text": [
      "Epoch 88: Train Loss: 0.2595, Acc: 0.9070; Test Loss: 0.8589, Acc: 0.7127\n"
     ]
    },
    {
     "name": "stderr",
     "output_type": "stream",
     "text": [
      "Training Progress:  59%|█████▉    | 89/150 [21:25<14:59, 14.74s/it]"
     ]
    },
    {
     "name": "stdout",
     "output_type": "stream",
     "text": [
      "Epoch 89: Train Loss: 0.2584, Acc: 0.9083; Test Loss: 0.8577, Acc: 0.7216\n"
     ]
    },
    {
     "name": "stderr",
     "output_type": "stream",
     "text": [
      "Training Progress:  60%|██████    | 90/150 [21:40<14:37, 14.63s/it]"
     ]
    },
    {
     "name": "stdout",
     "output_type": "stream",
     "text": [
      "Epoch 90: Train Loss: 0.2579, Acc: 0.9082; Test Loss: 0.8257, Acc: 0.7262\n"
     ]
    },
    {
     "name": "stderr",
     "output_type": "stream",
     "text": [
      "Training Progress:  61%|██████    | 91/150 [21:54<14:22, 14.63s/it]"
     ]
    },
    {
     "name": "stdout",
     "output_type": "stream",
     "text": [
      "Epoch 91: Train Loss: 0.2581, Acc: 0.9082; Test Loss: 0.8077, Acc: 0.7334\n"
     ]
    },
    {
     "name": "stderr",
     "output_type": "stream",
     "text": [
      "Training Progress:  61%|██████▏   | 92/150 [22:09<14:13, 14.72s/it]"
     ]
    },
    {
     "name": "stdout",
     "output_type": "stream",
     "text": [
      "Epoch 92: Train Loss: 0.2570, Acc: 0.9088; Test Loss: 0.8096, Acc: 0.7328\n"
     ]
    },
    {
     "name": "stderr",
     "output_type": "stream",
     "text": [
      "Training Progress:  62%|██████▏   | 93/150 [22:24<13:54, 14.64s/it]"
     ]
    },
    {
     "name": "stdout",
     "output_type": "stream",
     "text": [
      "Epoch 93: Train Loss: 0.2571, Acc: 0.9084; Test Loss: 0.7536, Acc: 0.7533\n"
     ]
    },
    {
     "name": "stderr",
     "output_type": "stream",
     "text": [
      "Training Progress:  63%|██████▎   | 94/150 [22:39<13:49, 14.81s/it]"
     ]
    },
    {
     "name": "stdout",
     "output_type": "stream",
     "text": [
      "Epoch 94: Train Loss: 0.2557, Acc: 0.9093; Test Loss: 0.8031, Acc: 0.7311\n"
     ]
    },
    {
     "name": "stderr",
     "output_type": "stream",
     "text": [
      "Training Progress:  63%|██████▎   | 95/150 [22:53<13:29, 14.71s/it]"
     ]
    },
    {
     "name": "stdout",
     "output_type": "stream",
     "text": [
      "Epoch 95: Train Loss: 0.2549, Acc: 0.9097; Test Loss: 0.8553, Acc: 0.7209\n"
     ]
    },
    {
     "name": "stderr",
     "output_type": "stream",
     "text": [
      "Training Progress:  64%|██████▍   | 96/150 [23:08<13:20, 14.82s/it]"
     ]
    },
    {
     "name": "stdout",
     "output_type": "stream",
     "text": [
      "Epoch 96: Train Loss: 0.2544, Acc: 0.9094; Test Loss: 0.8280, Acc: 0.7329\n"
     ]
    },
    {
     "name": "stderr",
     "output_type": "stream",
     "text": [
      "Training Progress:  65%|██████▍   | 97/150 [23:23<13:00, 14.73s/it]"
     ]
    },
    {
     "name": "stdout",
     "output_type": "stream",
     "text": [
      "Epoch 97: Train Loss: 0.2533, Acc: 0.9105; Test Loss: 0.7910, Acc: 0.7352\n"
     ]
    },
    {
     "name": "stderr",
     "output_type": "stream",
     "text": [
      "Training Progress:  65%|██████▌   | 98/150 [23:38<12:49, 14.80s/it]"
     ]
    },
    {
     "name": "stdout",
     "output_type": "stream",
     "text": [
      "Epoch 98: Train Loss: 0.2531, Acc: 0.9103; Test Loss: 0.8362, Acc: 0.7289\n"
     ]
    },
    {
     "name": "stderr",
     "output_type": "stream",
     "text": [
      "Training Progress:  66%|██████▌   | 99/150 [23:52<12:29, 14.70s/it]"
     ]
    },
    {
     "name": "stdout",
     "output_type": "stream",
     "text": [
      "Epoch 99: Train Loss: 0.2526, Acc: 0.9105; Test Loss: 0.8335, Acc: 0.7293\n"
     ]
    },
    {
     "name": "stderr",
     "output_type": "stream",
     "text": [
      "Training Progress:  67%|██████▋   | 100/150 [24:07<12:17, 14.75s/it]"
     ]
    },
    {
     "name": "stdout",
     "output_type": "stream",
     "text": [
      "Epoch 100: Train Loss: 0.2532, Acc: 0.9101; Test Loss: 0.7764, Acc: 0.7422\n"
     ]
    },
    {
     "name": "stderr",
     "output_type": "stream",
     "text": [
      "Training Progress:  67%|██████▋   | 101/150 [24:22<12:01, 14.73s/it]"
     ]
    },
    {
     "name": "stdout",
     "output_type": "stream",
     "text": [
      "Epoch 101: Train Loss: 0.2521, Acc: 0.9105; Test Loss: 0.8271, Acc: 0.7244\n"
     ]
    },
    {
     "name": "stderr",
     "output_type": "stream",
     "text": [
      "Training Progress:  68%|██████▊   | 102/150 [24:37<11:53, 14.86s/it]"
     ]
    },
    {
     "name": "stdout",
     "output_type": "stream",
     "text": [
      "Epoch 102: Train Loss: 0.2502, Acc: 0.9116; Test Loss: 0.8045, Acc: 0.7315\n"
     ]
    },
    {
     "name": "stderr",
     "output_type": "stream",
     "text": [
      "Training Progress:  69%|██████▊   | 103/150 [24:52<11:35, 14.80s/it]"
     ]
    },
    {
     "name": "stdout",
     "output_type": "stream",
     "text": [
      "Epoch 103: Train Loss: 0.2508, Acc: 0.9114; Test Loss: 0.8942, Acc: 0.7089\n"
     ]
    },
    {
     "name": "stderr",
     "output_type": "stream",
     "text": [
      "Training Progress:  69%|██████▉   | 104/150 [25:06<11:19, 14.76s/it]"
     ]
    },
    {
     "name": "stdout",
     "output_type": "stream",
     "text": [
      "Epoch 104: Train Loss: 0.2496, Acc: 0.9116; Test Loss: 0.8379, Acc: 0.7235\n"
     ]
    },
    {
     "name": "stderr",
     "output_type": "stream",
     "text": [
      "Training Progress:  70%|███████   | 105/150 [25:21<11:07, 14.83s/it]"
     ]
    },
    {
     "name": "stdout",
     "output_type": "stream",
     "text": [
      "Epoch 105: Train Loss: 0.2491, Acc: 0.9118; Test Loss: 0.8392, Acc: 0.7198\n"
     ]
    },
    {
     "name": "stderr",
     "output_type": "stream",
     "text": [
      "Training Progress:  71%|███████   | 106/150 [25:36<10:48, 14.73s/it]"
     ]
    },
    {
     "name": "stdout",
     "output_type": "stream",
     "text": [
      "Epoch 106: Train Loss: 0.2495, Acc: 0.9119; Test Loss: 0.8275, Acc: 0.7261\n"
     ]
    },
    {
     "name": "stderr",
     "output_type": "stream",
     "text": [
      "Training Progress:  71%|███████▏  | 107/150 [25:51<10:33, 14.73s/it]"
     ]
    },
    {
     "name": "stdout",
     "output_type": "stream",
     "text": [
      "Epoch 107: Train Loss: 0.2475, Acc: 0.9128; Test Loss: 0.8411, Acc: 0.7192\n"
     ]
    },
    {
     "name": "stderr",
     "output_type": "stream",
     "text": [
      "Training Progress:  72%|███████▏  | 108/150 [26:05<10:15, 14.65s/it]"
     ]
    },
    {
     "name": "stdout",
     "output_type": "stream",
     "text": [
      "Epoch 108: Train Loss: 0.2483, Acc: 0.9128; Test Loss: 0.8386, Acc: 0.7257\n"
     ]
    },
    {
     "name": "stderr",
     "output_type": "stream",
     "text": [
      "Training Progress:  73%|███████▎  | 109/150 [26:20<10:03, 14.73s/it]"
     ]
    },
    {
     "name": "stdout",
     "output_type": "stream",
     "text": [
      "Epoch 109: Train Loss: 0.2474, Acc: 0.9122; Test Loss: 0.8509, Acc: 0.7257\n"
     ]
    },
    {
     "name": "stderr",
     "output_type": "stream",
     "text": [
      "Training Progress:  73%|███████▎  | 110/150 [26:34<09:44, 14.61s/it]"
     ]
    },
    {
     "name": "stdout",
     "output_type": "stream",
     "text": [
      "Epoch 110: Train Loss: 0.2478, Acc: 0.9123; Test Loss: 0.8135, Acc: 0.7284\n"
     ]
    },
    {
     "name": "stderr",
     "output_type": "stream",
     "text": [
      "Training Progress:  74%|███████▍  | 111/150 [26:49<09:31, 14.67s/it]"
     ]
    },
    {
     "name": "stdout",
     "output_type": "stream",
     "text": [
      "Epoch 111: Train Loss: 0.2469, Acc: 0.9131; Test Loss: 0.8460, Acc: 0.7210\n"
     ]
    },
    {
     "name": "stderr",
     "output_type": "stream",
     "text": [
      "Training Progress:  75%|███████▍  | 112/150 [27:04<09:14, 14.60s/it]"
     ]
    },
    {
     "name": "stdout",
     "output_type": "stream",
     "text": [
      "Epoch 112: Train Loss: 0.2466, Acc: 0.9132; Test Loss: 0.8023, Acc: 0.7350\n"
     ]
    },
    {
     "name": "stderr",
     "output_type": "stream",
     "text": [
      "Training Progress:  75%|███████▌  | 113/150 [27:18<08:59, 14.59s/it]"
     ]
    },
    {
     "name": "stdout",
     "output_type": "stream",
     "text": [
      "Epoch 113: Train Loss: 0.2465, Acc: 0.9128; Test Loss: 0.7984, Acc: 0.7337\n"
     ]
    },
    {
     "name": "stderr",
     "output_type": "stream",
     "text": [
      "Training Progress:  76%|███████▌  | 114/150 [27:33<08:44, 14.57s/it]"
     ]
    },
    {
     "name": "stdout",
     "output_type": "stream",
     "text": [
      "Epoch 114: Train Loss: 0.2442, Acc: 0.9145; Test Loss: 0.7999, Acc: 0.7341\n"
     ]
    },
    {
     "name": "stderr",
     "output_type": "stream",
     "text": [
      "Training Progress:  77%|███████▋  | 115/150 [27:47<08:31, 14.62s/it]"
     ]
    },
    {
     "name": "stdout",
     "output_type": "stream",
     "text": [
      "Epoch 115: Train Loss: 0.2457, Acc: 0.9136; Test Loss: 0.8517, Acc: 0.7221\n"
     ]
    },
    {
     "name": "stderr",
     "output_type": "stream",
     "text": [
      "Training Progress:  77%|███████▋  | 116/150 [28:02<08:15, 14.57s/it]"
     ]
    },
    {
     "name": "stdout",
     "output_type": "stream",
     "text": [
      "Epoch 116: Train Loss: 0.2449, Acc: 0.9136; Test Loss: 0.8616, Acc: 0.7188\n"
     ]
    },
    {
     "name": "stderr",
     "output_type": "stream",
     "text": [
      "Training Progress:  78%|███████▊  | 117/150 [28:16<07:57, 14.46s/it]"
     ]
    },
    {
     "name": "stdout",
     "output_type": "stream",
     "text": [
      "Epoch 117: Train Loss: 0.2449, Acc: 0.9135; Test Loss: 0.9090, Acc: 0.7070\n"
     ]
    },
    {
     "name": "stderr",
     "output_type": "stream",
     "text": [
      "Training Progress:  79%|███████▊  | 118/150 [28:31<07:47, 14.61s/it]"
     ]
    },
    {
     "name": "stdout",
     "output_type": "stream",
     "text": [
      "Epoch 118: Train Loss: 0.2447, Acc: 0.9140; Test Loss: 0.8508, Acc: 0.7191\n"
     ]
    },
    {
     "name": "stderr",
     "output_type": "stream",
     "text": [
      "Training Progress:  79%|███████▉  | 119/150 [28:45<07:29, 14.51s/it]"
     ]
    },
    {
     "name": "stdout",
     "output_type": "stream",
     "text": [
      "Epoch 119: Train Loss: 0.2446, Acc: 0.9141; Test Loss: 0.8438, Acc: 0.7253\n"
     ]
    },
    {
     "name": "stderr",
     "output_type": "stream",
     "text": [
      "Training Progress:  80%|████████  | 120/150 [29:00<07:18, 14.61s/it]"
     ]
    },
    {
     "name": "stdout",
     "output_type": "stream",
     "text": [
      "Epoch 120: Train Loss: 0.2440, Acc: 0.9142; Test Loss: 0.8700, Acc: 0.7084\n"
     ]
    },
    {
     "name": "stderr",
     "output_type": "stream",
     "text": [
      "Training Progress:  81%|████████  | 121/150 [29:15<07:02, 14.58s/it]"
     ]
    },
    {
     "name": "stdout",
     "output_type": "stream",
     "text": [
      "Epoch 121: Train Loss: 0.2430, Acc: 0.9142; Test Loss: 0.8395, Acc: 0.7240\n"
     ]
    },
    {
     "name": "stderr",
     "output_type": "stream",
     "text": [
      "Training Progress:  81%|████████▏ | 122/150 [29:30<06:51, 14.68s/it]"
     ]
    },
    {
     "name": "stdout",
     "output_type": "stream",
     "text": [
      "Epoch 122: Train Loss: 0.2423, Acc: 0.9151; Test Loss: 0.8142, Acc: 0.7249\n"
     ]
    },
    {
     "name": "stderr",
     "output_type": "stream",
     "text": [
      "Training Progress:  82%|████████▏ | 123/150 [29:44<06:33, 14.56s/it]"
     ]
    },
    {
     "name": "stdout",
     "output_type": "stream",
     "text": [
      "Epoch 123: Train Loss: 0.2415, Acc: 0.9148; Test Loss: 0.8637, Acc: 0.7185\n"
     ]
    },
    {
     "name": "stderr",
     "output_type": "stream",
     "text": [
      "Training Progress:  83%|████████▎ | 124/150 [29:59<06:21, 14.65s/it]"
     ]
    },
    {
     "name": "stdout",
     "output_type": "stream",
     "text": [
      "Epoch 124: Train Loss: 0.2418, Acc: 0.9147; Test Loss: 0.8278, Acc: 0.7299\n"
     ]
    },
    {
     "name": "stderr",
     "output_type": "stream",
     "text": [
      "Training Progress:  83%|████████▎ | 125/150 [30:13<06:05, 14.63s/it]"
     ]
    },
    {
     "name": "stdout",
     "output_type": "stream",
     "text": [
      "Epoch 125: Train Loss: 0.2422, Acc: 0.9148; Test Loss: 0.8340, Acc: 0.7245\n"
     ]
    },
    {
     "name": "stderr",
     "output_type": "stream",
     "text": [
      "Training Progress:  84%|████████▍ | 126/150 [30:28<05:50, 14.60s/it]"
     ]
    },
    {
     "name": "stdout",
     "output_type": "stream",
     "text": [
      "Epoch 126: Train Loss: 0.2415, Acc: 0.9156; Test Loss: 0.8631, Acc: 0.7182\n"
     ]
    },
    {
     "name": "stderr",
     "output_type": "stream",
     "text": [
      "Training Progress:  85%|████████▍ | 127/150 [30:42<05:34, 14.56s/it]"
     ]
    },
    {
     "name": "stdout",
     "output_type": "stream",
     "text": [
      "Epoch 127: Train Loss: 0.2411, Acc: 0.9156; Test Loss: 0.8540, Acc: 0.7258\n"
     ]
    },
    {
     "name": "stderr",
     "output_type": "stream",
     "text": [
      "Training Progress:  85%|████████▌ | 128/150 [30:57<05:19, 14.52s/it]"
     ]
    },
    {
     "name": "stdout",
     "output_type": "stream",
     "text": [
      "Epoch 128: Train Loss: 0.2385, Acc: 0.9167; Test Loss: 0.8045, Acc: 0.7357\n"
     ]
    },
    {
     "name": "stderr",
     "output_type": "stream",
     "text": [
      "Training Progress:  86%|████████▌ | 129/150 [31:11<05:06, 14.59s/it]"
     ]
    },
    {
     "name": "stdout",
     "output_type": "stream",
     "text": [
      "Epoch 129: Train Loss: 0.2401, Acc: 0.9159; Test Loss: 0.8568, Acc: 0.7142\n"
     ]
    },
    {
     "name": "stderr",
     "output_type": "stream",
     "text": [
      "Training Progress:  87%|████████▋ | 130/150 [31:26<04:49, 14.47s/it]"
     ]
    },
    {
     "name": "stdout",
     "output_type": "stream",
     "text": [
      "Epoch 130: Train Loss: 0.2385, Acc: 0.9169; Test Loss: 0.8772, Acc: 0.7179\n"
     ]
    },
    {
     "name": "stderr",
     "output_type": "stream",
     "text": [
      "Training Progress:  87%|████████▋ | 131/150 [31:40<04:36, 14.57s/it]"
     ]
    },
    {
     "name": "stdout",
     "output_type": "stream",
     "text": [
      "Epoch 131: Train Loss: 0.2396, Acc: 0.9164; Test Loss: 0.8348, Acc: 0.7274\n"
     ]
    },
    {
     "name": "stderr",
     "output_type": "stream",
     "text": [
      "Training Progress:  88%|████████▊ | 132/150 [31:55<04:22, 14.56s/it]"
     ]
    },
    {
     "name": "stdout",
     "output_type": "stream",
     "text": [
      "Epoch 132: Train Loss: 0.2390, Acc: 0.9168; Test Loss: 0.8041, Acc: 0.7290\n"
     ]
    },
    {
     "name": "stderr",
     "output_type": "stream",
     "text": [
      "Training Progress:  89%|████████▊ | 133/150 [32:10<04:08, 14.59s/it]"
     ]
    },
    {
     "name": "stdout",
     "output_type": "stream",
     "text": [
      "Epoch 133: Train Loss: 0.2386, Acc: 0.9165; Test Loss: 0.7924, Acc: 0.7298\n"
     ]
    },
    {
     "name": "stderr",
     "output_type": "stream",
     "text": [
      "Training Progress:  89%|████████▉ | 134/150 [32:24<03:53, 14.62s/it]"
     ]
    },
    {
     "name": "stdout",
     "output_type": "stream",
     "text": [
      "Epoch 134: Train Loss: 0.2376, Acc: 0.9170; Test Loss: 0.7925, Acc: 0.7327\n"
     ]
    },
    {
     "name": "stderr",
     "output_type": "stream",
     "text": [
      "Training Progress:  90%|█████████ | 135/150 [32:39<03:38, 14.58s/it]"
     ]
    },
    {
     "name": "stdout",
     "output_type": "stream",
     "text": [
      "Epoch 135: Train Loss: 0.2365, Acc: 0.9178; Test Loss: 0.8260, Acc: 0.7336\n"
     ]
    },
    {
     "name": "stderr",
     "output_type": "stream",
     "text": [
      "Training Progress:  91%|█████████ | 136/150 [32:54<03:25, 14.66s/it]"
     ]
    },
    {
     "name": "stdout",
     "output_type": "stream",
     "text": [
      "Epoch 136: Train Loss: 0.2386, Acc: 0.9168; Test Loss: 0.8528, Acc: 0.7212\n"
     ]
    },
    {
     "name": "stderr",
     "output_type": "stream",
     "text": [
      "Training Progress:  91%|█████████▏| 137/150 [33:08<03:10, 14.65s/it]"
     ]
    },
    {
     "name": "stdout",
     "output_type": "stream",
     "text": [
      "Epoch 137: Train Loss: 0.2370, Acc: 0.9169; Test Loss: 0.8189, Acc: 0.7337\n"
     ]
    },
    {
     "name": "stderr",
     "output_type": "stream",
     "text": [
      "Training Progress:  92%|█████████▏| 138/150 [33:23<02:57, 14.77s/it]"
     ]
    },
    {
     "name": "stdout",
     "output_type": "stream",
     "text": [
      "Epoch 138: Train Loss: 0.2366, Acc: 0.9176; Test Loss: 0.8183, Acc: 0.7251\n"
     ]
    },
    {
     "name": "stderr",
     "output_type": "stream",
     "text": [
      "Training Progress:  93%|█████████▎| 139/150 [33:38<02:41, 14.73s/it]"
     ]
    },
    {
     "name": "stdout",
     "output_type": "stream",
     "text": [
      "Epoch 139: Train Loss: 0.2367, Acc: 0.9172; Test Loss: 0.8298, Acc: 0.7336\n"
     ]
    },
    {
     "name": "stderr",
     "output_type": "stream",
     "text": [
      "Training Progress:  93%|█████████▎| 140/150 [33:53<02:26, 14.70s/it]"
     ]
    },
    {
     "name": "stdout",
     "output_type": "stream",
     "text": [
      "Epoch 140: Train Loss: 0.2364, Acc: 0.9171; Test Loss: 0.7925, Acc: 0.7328\n"
     ]
    },
    {
     "name": "stderr",
     "output_type": "stream",
     "text": [
      "Training Progress:  94%|█████████▍| 141/150 [34:07<02:12, 14.77s/it]"
     ]
    },
    {
     "name": "stdout",
     "output_type": "stream",
     "text": [
      "Epoch 141: Train Loss: 0.2359, Acc: 0.9176; Test Loss: 0.8317, Acc: 0.7244\n"
     ]
    },
    {
     "name": "stderr",
     "output_type": "stream",
     "text": [
      "Training Progress:  95%|█████████▍| 142/150 [34:22<01:57, 14.65s/it]"
     ]
    },
    {
     "name": "stdout",
     "output_type": "stream",
     "text": [
      "Epoch 142: Train Loss: 0.2356, Acc: 0.9181; Test Loss: 0.8174, Acc: 0.7238\n"
     ]
    },
    {
     "name": "stderr",
     "output_type": "stream",
     "text": [
      "Training Progress:  95%|█████████▌| 143/150 [34:37<01:42, 14.69s/it]"
     ]
    },
    {
     "name": "stdout",
     "output_type": "stream",
     "text": [
      "Epoch 143: Train Loss: 0.2353, Acc: 0.9182; Test Loss: 0.8542, Acc: 0.7168\n"
     ]
    },
    {
     "name": "stderr",
     "output_type": "stream",
     "text": [
      "Training Progress:  96%|█████████▌| 144/150 [34:51<01:27, 14.60s/it]"
     ]
    },
    {
     "name": "stdout",
     "output_type": "stream",
     "text": [
      "Epoch 144: Train Loss: 0.2351, Acc: 0.9180; Test Loss: 0.8526, Acc: 0.7199\n"
     ]
    },
    {
     "name": "stderr",
     "output_type": "stream",
     "text": [
      "Training Progress:  97%|█████████▋| 145/150 [35:06<01:13, 14.62s/it]"
     ]
    },
    {
     "name": "stdout",
     "output_type": "stream",
     "text": [
      "Epoch 145: Train Loss: 0.2337, Acc: 0.9184; Test Loss: 0.8424, Acc: 0.7192\n"
     ]
    },
    {
     "name": "stderr",
     "output_type": "stream",
     "text": [
      "Training Progress:  97%|█████████▋| 146/150 [35:20<00:58, 14.51s/it]"
     ]
    },
    {
     "name": "stdout",
     "output_type": "stream",
     "text": [
      "Epoch 146: Train Loss: 0.2338, Acc: 0.9186; Test Loss: 0.8503, Acc: 0.7203\n"
     ]
    },
    {
     "name": "stderr",
     "output_type": "stream",
     "text": [
      "Training Progress:  98%|█████████▊| 147/150 [35:35<00:43, 14.63s/it]"
     ]
    },
    {
     "name": "stdout",
     "output_type": "stream",
     "text": [
      "Epoch 147: Train Loss: 0.2345, Acc: 0.9186; Test Loss: 0.8045, Acc: 0.7357\n"
     ]
    },
    {
     "name": "stderr",
     "output_type": "stream",
     "text": [
      "Training Progress:  99%|█████████▊| 148/150 [35:49<00:29, 14.57s/it]"
     ]
    },
    {
     "name": "stdout",
     "output_type": "stream",
     "text": [
      "Epoch 148: Train Loss: 0.2338, Acc: 0.9185; Test Loss: 0.8261, Acc: 0.7285\n"
     ]
    },
    {
     "name": "stderr",
     "output_type": "stream",
     "text": [
      "Training Progress:  99%|█████████▉| 149/150 [36:04<00:14, 14.64s/it]"
     ]
    },
    {
     "name": "stdout",
     "output_type": "stream",
     "text": [
      "Epoch 149: Train Loss: 0.2325, Acc: 0.9196; Test Loss: 0.8701, Acc: 0.7119\n"
     ]
    },
    {
     "name": "stderr",
     "output_type": "stream",
     "text": [
      "Training Progress: 100%|██████████| 150/150 [36:18<00:00, 14.53s/it]"
     ]
    },
    {
     "name": "stdout",
     "output_type": "stream",
     "text": [
      "Epoch 150: Train Loss: 0.2332, Acc: 0.9187; Test Loss: 0.8527, Acc: 0.7224\n"
     ]
    },
    {
     "name": "stderr",
     "output_type": "stream",
     "text": [
      "\n"
     ]
    },
    {
     "data": {
      "image/png": "[encoded data removed]",
      "text/plain": [
       "<Figure size 640x480 with 1 Axes>"
      ]
     },
     "metadata": {},
     "output_type": "display_data"
    }
   ],
   "source": [
    "import torch\n",
    "import pandas as pd\n",
    "import numpy as np\n",
    "from torch import nn\n",
    "from torch.utils.data import DataLoader, Dataset\n",
    "import torch.nn.functional as F\n",
    "import torch.optim as optim\n",
    "from tqdm import tqdm\n",
    "from sklearn.metrics import roc_auc_score, roc_curve\n",
    "import matplotlib.pyplot as plt\n",
    "\n",
    "# Read training data\n",
    "tcr_file_train_pos = '/kaggle/input/pmtnet-repeatfromissue/TCR_output_pos.csv'\n",
    "tcr_file_train_neg = '/kaggle/input/pmtnet-repeatfromissue/TCR_output_neg.csv'\n",
    "hla_antigen_file_train = '/kaggle/input/pmtnet-repeatfromissue/MHC_antigen_output.csv'\n",
    "tcr_train_pos = pd.read_csv(tcr_file_train_pos, index_col=0)\n",
    "tcr_train_neg = pd.read_csv(tcr_file_train_neg, index_col=0)\n",
    "hla_antigen_train = pd.read_csv(hla_antigen_file_train, index_col=0)\n",
    "\n",
    "# Splited Test data\n",
    "test_data_pos = pd.read_csv('/kaggle/input/pmtnet-repeatfromissue/TCR_test_pos.csv', index_col=0)\n",
    "test_data_pos = test_data_pos.loc[test_data_pos.index.repeat(10)].reset_index(drop=True)\n",
    "test_data_neg = pd.read_csv('/kaggle/input/pmtnet-repeatfromissue/TCR_test_neg.csv', index_col=0)\n",
    "test_hla_antigen = pd.read_csv('/kaggle/input/pmtnet-repeatfromissue/MHC_antigen_test.csv', index_col=0)\n",
    "test_hla_antigen = test_hla_antigen.loc[test_hla_antigen.index.repeat(10)].reset_index(drop=True)\n",
    "\n",
    "# Custom dataset class\n",
    "class PMTData(Dataset):\n",
    "    def __init__(self, pos_in, neg_in, hla_antigen_in):\n",
    "        self.pos_in = torch.tensor(pos_in.values).float()\n",
    "        self.neg_in = torch.tensor(neg_in.values).float()\n",
    "        self.hla_antigen_in = torch.tensor(hla_antigen_in.values).float()\n",
    "\n",
    "    def __len__(self):\n",
    "        return len(self.pos_in)\n",
    "\n",
    "    def __getitem__(self, idx):\n",
    "        return self.pos_in[idx], self.neg_in[idx], self.hla_antigen_in[idx]\n",
    "\n",
    "# Initialize datasets\n",
    "train_dataset = PMTData(tcr_train_pos, tcr_train_neg, hla_antigen_train)\n",
    "test_dataset = PMTData(test_data_pos, test_data_neg, test_hla_antigen)\n",
    "\n",
    "# Data loaders\n",
    "train_loader = DataLoader(train_dataset, batch_size=256, shuffle=True)\n",
    "test_loader = DataLoader(test_dataset, batch_size=256, shuffle=False)\n",
    "\n",
    "# Neural network model and training setup\n",
    "class PMTNet(nn.Module):\n",
    "    def __init__(self):\n",
    "        super(PMTNet, self).__init__()\n",
    "        self.linear1 = nn.Sequential(\n",
    "            nn.Linear(90, 300),  \n",
    "            nn.ReLU()\n",
    "        )\n",
    "        self.linear2 = nn.Sequential(\n",
    "            nn.Dropout(0.2),\n",
    "            nn.Linear(300, 200),\n",
    "            nn.ReLU(),\n",
    "            nn.Linear(200, 100),\n",
    "            nn.ReLU(),\n",
    "            nn.Linear(100, 1)\n",
    "        )\n",
    "\n",
    "    def forward(self, pos_in, neg_in, hla_antigen_in):\n",
    "        ternary_layer1_pos = torch.cat([pos_in, hla_antigen_in], 1)\n",
    "        ternary_layer1_neg = torch.cat([neg_in, hla_antigen_in], 1)\n",
    "        pos_out = self.linear2(self.linear1(ternary_layer1_pos))\n",
    "        neg_out = self.linear2(self.linear1(ternary_layer1_neg))\n",
    "        return torch.cat([pos_out, neg_out], 1)\n",
    "\n",
    "# PMTTrainer class definition\n",
    "class PMTTrainer:\n",
    "    def __init__(self, model, train_loader, test_loader, optimizer, scheduler=None, epochs=150):\n",
    "        self.model = model\n",
    "        self.train_loader = train_loader\n",
    "        self.test_loader = test_loader\n",
    "        self.optimizer = optimizer\n",
    "        self.scheduler = scheduler\n",
    "        self.epochs = epochs\n",
    "        self.true_vals = []\n",
    "        self.preds = []\n",
    "\n",
    "    def run_epoch(self, training=True):\n",
    "        loader = self.train_loader if training else self.test_loader\n",
    "        running_loss = 0.0\n",
    "        running_acc = 0.0\n",
    "        for data in loader:\n",
    "            pos, neg, hla = data\n",
    "            self.optimizer.zero_grad()\n",
    "            with torch.set_grad_enabled(training):\n",
    "                predictions = self.model(pos, neg, hla)\n",
    "                loss = pos_neg_loss(predictions)\n",
    "                acc = pos_neg_acc(predictions)\n",
    "                if training:\n",
    "                    loss.backward()\n",
    "                    self.optimizer.step()\n",
    "            running_loss += loss.item()\n",
    "            running_acc += acc.item()\n",
    "            if not training:\n",
    "                self.true_vals.append(torch.ones(pos.size(0)))\n",
    "                self.true_vals.append(torch.zeros(neg.size(0)))\n",
    "                self.preds.append(predictions[:, 1].detach().cpu())\n",
    "                self.preds.append(predictions[:, 0].detach().cpu())\n",
    "        if training and self.scheduler is not None:\n",
    "            self.scheduler.step()\n",
    "        return running_loss / len(loader), running_acc / len(loader)\n",
    "\n",
    "    def train(self):\n",
    "        train_history = {'loss': [], 'acc': []}\n",
    "        test_history = {'loss': [], 'acc': []}\n",
    "        for epoch in tqdm(range(self.epochs), desc=\"Training Progress\"):\n",
    "            train_loss, train_acc = self.run_epoch(training=True)\n",
    "            test_loss, test_acc = self.run_epoch(training=False)\n",
    "            train_history['loss'].append(train_loss)\n",
    "            train_history['acc'].append(train_acc)\n",
    "            test_history['loss'].append(test_loss)\n",
    "            test_history['acc'].append(test_acc)\n",
    "            print(f\"Epoch {epoch + 1}: Train Loss: {train_loss:.4f}, Acc: {train_acc:.4f}; Test Loss: {test_loss:.4f}, Acc: {test_acc:.4f}\")\n",
    "            \n",
    "            # Save the model weights after each epoch\n",
    "            torch.save(self.model.state_dict(), f'PMTNet_epoch_{epoch+1}.pth')\n",
    "        \n",
    "        # Save final model weights\n",
    "        torch.save(self.model.state_dict(), 'PMTNet_final.pth')\n",
    "        \n",
    "        return train_history, test_history\n",
    "\n",
    "def pos_neg_loss(y_pred):\n",
    "    positive_pred = y_pred[:, 1]\n",
    "    negative_pred = y_pred[:, 0]\n",
    "    return torch.mean(F.relu(1 + negative_pred - positive_pred)) + 0.03 * torch.mean(torch.square(negative_pred))\n",
    "\n",
    "def pos_neg_acc(y_pred):\n",
    "    positive_pred = y_pred[:, 1]\n",
    "    negative_pred = y_pred[:, 0]\n",
    "    return torch.mean((negative_pred < positive_pred).float())\n",
    "\n",
    "# Training the model\n",
    "model = PMTNet()\n",
    "optimizer = optim.Adamax(model.parameters())\n",
    "\n",
    "trainer = PMTTrainer(model, train_loader, test_loader, optimizer, )\n",
    "train_history, test_history = trainer.train()\n",
    "\n",
    "# Save true values and predictions\n",
    "def save_true_pred(true_vals, preds, filename='test_pred.csv'):\n",
    "    true_vals = torch.cat(true_vals).numpy()\n",
    "    preds = torch.cat(preds).numpy()\n",
    "    df = pd.DataFrame({'True': true_vals, 'Pred': preds})\n",
    "    df.to_csv(filename, index=False)\n",
    "\n",
    "save_true_pred(trainer.true_vals, trainer.preds, filename='test_pred.csv')\n",
    "\n",
    "# Plot ROC AUC\n",
    "def plot_roc_auc(true_vals, preds):\n",
    "    true_vals = torch.cat(true_vals).numpy()\n",
    "    preds = torch.cat(preds).numpy()\n",
    "    fpr, tpr, _ = roc_curve(true_vals, preds)\n",
    "    roc_auc = roc_auc_score(true_vals, preds)\n",
    "    plt.figure()\n",
    "    plt.plot(fpr, tpr, color='darkorange', lw=2, label=f'ROC curve (area = {roc_auc:.2f})')\n",
    "    plt.plot([0, 1], [0, 1], color='navy', lw=2, linestyle='--')\n",
    "    plt.xlim([0.0, 1.0])\n",
    "    plt.ylim([0.0, 1.05])\n",
    "    plt.xlabel('False Positive Rate')\n",
    "    plt.ylabel('True Positive Rate')\n",
    "    plt.title('Receiver Operating Characteristic')\n",
    "    plt.legend(loc=\"lower right\")\n",
    "    plt.show()\n",
    "\n",
    "plot_roc_auc(trainer.true_vals, trainer.preds)"
   ]
  },
  {
   "cell_type": "code",
   "execution_count": 2,
   "id": "82ba9f84",
   "metadata": {
    "execution": {
     "iopub.execute_input": "2024-08-12T13:24:39.896872Z",
     "iopub.status.busy": "2024-08-12T13:24:39.896420Z",
     "iopub.status.idle": "2024-08-12T13:24:40.785006Z",
     "shell.execute_reply": "2024-08-12T13:24:40.783645Z"
    },
    "papermill": {
     "duration": 0.924343,
     "end_time": "2024-08-12T13:24:40.787647",
     "exception": false,
     "start_time": "2024-08-12T13:24:39.863304",
     "status": "completed"
    },
    "tags": []
   },
   "outputs": [
    {
     "data": {
      "image/png": "[encoded data removed]",
      "text/plain": [
       "<Figure size 640x480 with 1 Axes>"
      ]
     },
     "metadata": {},
     "output_type": "display_data"
    },
    {
     "data": {
      "image/png": "[encoded data removed]",
      "text/plain": [
       "<Figure size 640x480 with 1 Axes>"
      ]
     },
     "metadata": {},
     "output_type": "display_data"
    }
   ],
   "source": [
    "import torch\n",
    "import pandas as pd\n",
    "import numpy as np\n",
    "from torch.utils.data import DataLoader\n",
    "from sklearn.metrics import roc_auc_score, roc_curve, precision_recall_curve, auc\n",
    "import matplotlib.pyplot as plt\n",
    "# Independed Test data\n",
    "test_data_pos = pd.read_csv('/kaggle/input/pmtnet-dataem/TCR_Independent_Test_Pos.csv', index_col=0)\n",
    "test_data_neg = pd.read_csv('/kaggle/input/pmtnet-dataem/TCR_Independent_Test_Neg.csv', index_col=0)\n",
    "test_hla_antigen = pd.read_csv('/kaggle/input/pmtnet-dataem/MHC_antigen_Independent.csv', index_col=0)\n",
    "\n",
    "# Prepare dataset for prediction\n",
    "class PMTData(Dataset):\n",
    "    def __init__(self, pos_in, neg_in, hla_antigen_in):\n",
    "        self.pos_in = torch.tensor(pos_in.values).float()\n",
    "        self.neg_in = torch.tensor(neg_in.values).float()\n",
    "        self.hla_antigen_in = torch.tensor(hla_antigen_in.values).float()\n",
    "\n",
    "    def __len__(self):\n",
    "        return len(self.pos_in)\n",
    "\n",
    "    def __getitem__(self, idx):\n",
    "        return self.pos_in[idx], self.neg_in[idx], self.hla_antigen_in[idx]\n",
    "\n",
    "# Load the independent test data into DataLoader\n",
    "independent_test_dataset = PMTData(test_data_pos, test_data_neg, test_hla_antigen)\n",
    "independent_test_loader = DataLoader(independent_test_dataset, batch_size=256, shuffle=False)\n",
    "\n",
    "# Load the trained model weights\n",
    "model = PMTNet()\n",
    "model.load_state_dict(torch.load('PMTNet_final.pth'))\n",
    "model.eval()\n",
    "\n",
    "# Predicting on the independent test data\n",
    "true_vals = []\n",
    "preds = []\n",
    "\n",
    "with torch.no_grad():\n",
    "    for data in independent_test_loader:\n",
    "        pos, neg, hla = data\n",
    "        predictions = model(pos, neg, hla)\n",
    "        true_vals.append(torch.ones(pos.size(0)))\n",
    "        true_vals.append(torch.zeros(neg.size(0)))\n",
    "        preds.append(predictions[:, 1].cpu())\n",
    "        preds.append(predictions[:, 0].cpu())\n",
    "\n",
    "true_vals = torch.cat(true_vals).numpy()\n",
    "preds = torch.cat(preds).numpy()\n",
    "\n",
    "# Save the prediction results\n",
    "df_results = pd.DataFrame({'True': true_vals, 'Pred': preds})\n",
    "df_results.to_csv('independent_test_predictions.csv', index=False)\n",
    "\n",
    "# Plot ROC AUC\n",
    "fpr, tpr, _ = roc_curve(true_vals, preds)\n",
    "roc_auc = roc_auc_score(true_vals, preds)\n",
    "plt.figure()\n",
    "plt.plot(fpr, tpr, color='darkorange', lw=2, label=f'ROC curve (area = {roc_auc:.2f})')\n",
    "plt.plot([0, 1], [0, 1], color='navy', lw=2, linestyle='--')\n",
    "plt.xlim([0.0, 1.0])\n",
    "plt.ylim([0.0, 1.05])\n",
    "plt.xlabel('False Positive Rate')\n",
    "plt.ylabel('True Positive Rate')\n",
    "plt.title('Receiver Operating Characteristic')\n",
    "plt.legend(loc=\"lower right\")\n",
    "plt.show()\n",
    "\n",
    "# Plot PR AUC\n",
    "precision, recall, _ = precision_recall_curve(true_vals, preds)\n",
    "pr_auc = auc(recall, precision)\n",
    "plt.figure()\n",
    "plt.plot(recall, precision, color='blue', lw=2, label=f'PR curve (area = {pr_auc:.2f})')\n",
    "plt.xlim([0.0, 1.0])\n",
    "plt.ylim([0.0, 1.05])\n",
    "plt.xlabel('Recall')\n",
    "plt.ylabel('Precision')\n",
    "plt.title('Precision-Recall Curve')\n",
    "plt.legend(loc=\"lower right\")\n",
    "plt.show()"
   ]
  }
 ],
 "metadata": {
  "kaggle": {
   "accelerator": "none",
   "dataSources": [
    {
     "datasetId": 4706629,
     "sourceId": 7994379,
     "sourceType": "datasetVersion"
    },
    {
     "sourceId": 192291542,
     "sourceType": "kernelVersion"
    }
   ],
   "dockerImageVersionId": 30732,
   "isGpuEnabled": false,
   "isInternetEnabled": true,
   "language": "python",
   "sourceType": "notebook"
  },
  "kernelspec": {
   "display_name": "Python 3",
   "language": "python",
   "name": "python3"
  },
  "language_info": {
   "codemirror_mode": {
    "name": "ipython",
    "version": 3
   },
   "file_extension": ".py",
   "mimetype": "text/x-python",
   "name": "python",
   "nbconvert_exporter": "python",
   "pygments_lexer": "ipython3",
   "version": "3.10.13"
  },
  "papermill": {
   "default_parameters": {},
   "duration": 2212.521063,
   "end_time": "2024-08-12T13:24:42.251946",
   "environment_variables": {},
   "exception": null,
   "input_path": "__notebook__.ipynb",
   "output_path": "__notebook__.ipynb",
   "parameters": {},
   "start_time": "2024-08-12T12:47:49.730883",
   "version": "2.5.0"
  }
 },
 "nbformat": 4,
 "nbformat_minor": 5
}
